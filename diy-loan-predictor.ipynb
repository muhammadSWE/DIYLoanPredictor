{
 "cells": [
  {
   "cell_type": "code",
   "execution_count": 1,
   "id": "132c346d",
   "metadata": {
    "_cell_guid": "b1076dfc-b9ad-4769-8c92-a6c4dae69d19",
    "_uuid": "8f2839f25d086af736a60e9eeb907d3b93b6e0e5",
    "execution": {
     "iopub.execute_input": "2024-02-21T09:21:20.949847Z",
     "iopub.status.busy": "2024-02-21T09:21:20.949436Z",
     "iopub.status.idle": "2024-02-21T09:21:21.894569Z",
     "shell.execute_reply": "2024-02-21T09:21:21.893074Z"
    },
    "papermill": {
     "duration": 0.952219,
     "end_time": "2024-02-21T09:21:21.897936",
     "exception": false,
     "start_time": "2024-02-21T09:21:20.945717",
     "status": "completed"
    },
    "tags": []
   },
   "outputs": [
    {
     "name": "stdout",
     "output_type": "stream",
     "text": [
      "/kaggle/input/loan-prediction-based-on-customer-behavior/Test Data.csv\n",
      "/kaggle/input/loan-prediction-based-on-customer-behavior/Training Data.csv\n",
      "/kaggle/input/loan-prediction-based-on-customer-behavior/Sample Prediction Dataset.csv\n"
     ]
    }
   ],
   "source": [
    "#Using codes 61-72\n",
    "import numpy as np # linear algebra\n",
    "import pandas as pd # data processing, CSV file I/O (e.g. pd.read_csv)\n",
    "import os\n",
    "for dirname, _, filenames in os.walk('/kaggle/input'):\n",
    "    for filename in filenames:\n",
    "        print(os.path.join(dirname, filename))"
   ]
  }
 ],
 "metadata": {
  "kaggle": {
   "accelerator": "none",
   "dataSources": [
    {
     "datasetId": 1532161,
     "sourceId": 2528751,
     "sourceType": "datasetVersion"
    }
   ],
   "dockerImageVersionId": 30646,
   "isGpuEnabled": false,
   "isInternetEnabled": false,
   "language": "python",
   "sourceType": "notebook"
  },
  "kernelspec": {
   "display_name": "Python 3",
   "language": "python",
   "name": "python3"
  },
  "language_info": {
   "codemirror_mode": {
    "name": "ipython",
    "version": 3
   },
   "file_extension": ".py",
   "mimetype": "text/x-python",
   "name": "python",
   "nbconvert_exporter": "python",
   "pygments_lexer": "ipython3",
   "version": "3.10.13"
  },
  "papermill": {
   "default_parameters": {},
   "duration": 7.008322,
   "end_time": "2024-02-21T09:21:25.325378",
   "environment_variables": {},
   "exception": null,
   "input_path": "__notebook__.ipynb",
   "output_path": "__notebook__.ipynb",
   "parameters": {},
   "start_time": "2024-02-21T09:21:18.317056",
   "version": "2.5.0"
  }
 },
 "nbformat": 4,
 "nbformat_minor": 5
}
